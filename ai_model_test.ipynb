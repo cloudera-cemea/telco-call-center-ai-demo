{
 "cells": [
  {
   "cell_type": "code",
   "execution_count": 3,
   "id": "f6074b76-6832-481b-95de-468c714c8aec",
   "metadata": {},
   "outputs": [],
   "source": [
    "from ai_model import *"
   ]
  },
  {
   "cell_type": "code",
   "execution_count": 4,
   "id": "59180530-1966-4a9c-82ee-e67ab51df33e",
   "metadata": {},
   "outputs": [
    {
     "name": "stderr",
     "output_type": "stream",
     "text": [
      "INFO:root:retrieveCustomerInfo called with name: Alex, dob: 1990-03-13, address: Sample Street 1.\n",
      "INFO:root:Attempting to run query: \n",
      "    SELECT\n",
      "        name,\n",
      "        customer_id as Customer_ID,\n",
      "        current_product as Current_Product,\n",
      "        churn_risk as Churn_Risk,\n",
      "        customer_since as Customer_Since,\n",
      "        date_of_birth as Date_of_birth,\n",
      "        address as Address,\n",
      "        preapproved_for_discount as Preappoved_for_discount\n",
      "    FROM telco_call_center_ai.customer_info\n",
      "    WHERE LOWER(name) = LOWER('Alex')\n",
      "    AND date_of_birth = '1990-03-13'\n",
      "    AND LOWER(address) = LOWER('Sample Street 1')\n",
      "    .\n",
      "Hive Session ID = dc9d4879-879e-4435-93f1-5172ffc23ddb\n",
      "INFO:root:Customer information retrieved: {'name': 'Alex', 'Customer_ID': 13, 'Current_Product': 'AirSpeed Home', 'Churn_Risk': 1, 'Customer_Since': '2022-01-01', 'Date_of_birth': '1990-03-13', 'Address': 'Sample Street 1', 'Preappoved_for_discount': 'No'}.\n"
     ]
    },
    {
     "data": {
      "text/plain": [
       "{'recommendationText': '{\\n  \"name\": \"Alex\",\\n  \"address\": \"Sample Street 1\",\\n  \"dob\": \"1990-03-13\"\\n}',\n",
       " 'foundCustomer': 1,\n",
       " 'customerInfo': {'name': 'Alex',\n",
       "  'Customer_ID': 13,\n",
       "  'Current_Product': 'AirSpeed Home',\n",
       "  'Churn_Risk': 1,\n",
       "  'Customer_Since': '2022-01-01',\n",
       "  'Date_of_birth': '1990-03-13',\n",
       "  'Address': 'Sample Street 1',\n",
       "  'Preappoved_for_discount': 'No'}}"
      ]
     },
     "execution_count": 4,
     "metadata": {},
     "output_type": "execute_result"
    }
   ],
   "source": [
    "# good case\n",
    "predict({\n",
    "    \"text\":\"Here is the entire conversation: name Alex address Sample Street 1 date of birth 13 March 1990 .\",\n",
    "    \"task\":\"getCustomerInfo\"\n",
    "})"
   ]
  },
  {
   "cell_type": "code",
   "execution_count": 5,
   "id": "cb387838-3d8f-4621-9b5f-1e55124bd3d7",
   "metadata": {},
   "outputs": [
    {
     "name": "stderr",
     "output_type": "stream",
     "text": [
      "INFO:httpx:HTTP Request: POST https://api.openai.com/v1/chat/completions \"HTTP/1.1 200 OK\"\n"
     ]
    },
    {
     "data": {
      "text/plain": [
       "{'name': 'Alex', 'address': 'Sample Street 1', 'dob': '1990-03-13'}"
      ]
     },
     "execution_count": 5,
     "metadata": {},
     "output_type": "execute_result"
    }
   ],
   "source": [
    "# good case\n",
    "text = \"Here is the entire conversation: name Alex address Sample Street 1 date of birth 13 March 1990 .\"\n",
    "\n",
    "completion = client.chat.completions.create(\n",
    "    model=\"gpt-3.5-turbo-1106\",\n",
    "    response_format={\"type\": \"json_object\"},\n",
    "    messages=[\n",
    "        {\"role\": \"system\", \"content\": 'You are a helpful assistant for call center agents designed to analyze text from a conversation and figure out information about the customer who is calling outputing a JSON. Provide your answer in JSON structure like this {\"name\": \"<The name of the customer>\", \"address\": \"<The street of the customer> <The house number of the customer as number, not string>\", \"dob\": \"<The date of birth of the customer as YYYY-MM-DD>\". You will be given the entire conversation so far, do not worry if the information is not complete yet, just fill out whatever you can identify.'},\n",
    "        {\"role\": \"user\", \"content\": f\"{text}\"}\n",
    "    ]\n",
    ")\n",
    "\n",
    "info = json.loads(completion.choices[0].message.content)\n",
    "info_complete = False\n",
    "needed_informattion = ['name', 'address', 'dob']\n",
    "\n",
    "for info_elem in needed_informattion:\n",
    "    if info_elem in info and info[info_elem] and info[info_elem] != \"\":\n",
    "        info_complete = True\n",
    "        if info_elem == 'dob' and not is_valid_date(info['dob']):\n",
    "            info_complete = False\n",
    "    else:\n",
    "        info_complete = False\n",
    "\n",
    "info"
   ]
  },
  {
   "cell_type": "code",
   "execution_count": 6,
   "id": "8e17a140-2032-47bf-9909-ec3930f8465b",
   "metadata": {},
   "outputs": [
    {
     "name": "stderr",
     "output_type": "stream",
     "text": [
      "INFO:root:retrieveCustomerInfo called with name: Alex, dob: 1990-03-13, address: Sample Street 1.\n",
      "INFO:root:Attempting to run query: \n",
      "    SELECT\n",
      "        name,\n",
      "        customer_id as Customer_ID,\n",
      "        current_product as Current_Product,\n",
      "        churn_risk as Churn_Risk,\n",
      "        customer_since as Customer_Since,\n",
      "        date_of_birth as Date_of_birth,\n",
      "        address as Address,\n",
      "        preapproved_for_discount as Preappoved_for_discount\n",
      "    FROM telco_call_center_ai.customer_info\n",
      "    WHERE LOWER(name) = LOWER('Alex')\n",
      "    AND date_of_birth = '1990-03-13'\n",
      "    AND LOWER(address) = LOWER('Sample Street 1')\n",
      "    .\n",
      "INFO:root:Customer information retrieved: {'name': 'Alex', 'Customer_ID': 13, 'Current_Product': 'AirSpeed Home', 'Churn_Risk': 1, 'Customer_Since': '2022-01-01', 'Date_of_birth': '1990-03-13', 'Address': 'Sample Street 1', 'Preappoved_for_discount': 'No'}.\n"
     ]
    }
   ],
   "source": [
    "if info_complete:\n",
    "    customer_info_from_db = retrieveCustomerInfo(info['name'], info['dob'], info['address'])\n",
    "    if customer_info_from_db == False:\n",
    "        output = {\"recommendationText\": completion.choices[0].message.content,\n",
    "                  \"foundCustomer\": 0}\n",
    "    else:\n",
    "        output = {\"recommendationText\": completion.choices[0].message.content,\n",
    "                  \"foundCustomer\": 1,\n",
    "                  \"customerInfo\": customer_info_from_db}\n",
    "\n",
    "else:\n",
    "    output = {\n",
    "        \"recommendationText\": completion.choices[0].message.content}"
   ]
  },
  {
   "cell_type": "code",
   "execution_count": 7,
   "id": "c0bd89b9-44f0-46d0-b90b-66999bf8edeb",
   "metadata": {},
   "outputs": [
    {
     "data": {
      "text/plain": [
       "{'name': 'Alex',\n",
       " 'Customer_ID': 13,\n",
       " 'Current_Product': 'AirSpeed Home',\n",
       " 'Churn_Risk': 1,\n",
       " 'Customer_Since': '2022-01-01',\n",
       " 'Date_of_birth': '1990-03-13',\n",
       " 'Address': 'Sample Street 1',\n",
       " 'Preappoved_for_discount': 'No'}"
      ]
     },
     "execution_count": 7,
     "metadata": {},
     "output_type": "execute_result"
    }
   ],
   "source": [
    "customer_info_from_db"
   ]
  },
  {
   "cell_type": "code",
   "execution_count": 8,
   "id": "82e4fcbf-efcd-42ab-9468-8626ea2c5902",
   "metadata": {},
   "outputs": [
    {
     "name": "stderr",
     "output_type": "stream",
     "text": [
      "INFO:root:retrieveCustomerInfo called with name: Alex, dob: 1990-03-13, address: Sample Street 1.\n",
      "INFO:root:Attempting to run query: \n",
      "    SELECT\n",
      "        name,\n",
      "        customer_id as Customer_ID,\n",
      "        current_product as Current_Product,\n",
      "        churn_risk as Churn_Risk,\n",
      "        customer_since as Customer_Since,\n",
      "        date_of_birth as Date_of_birth,\n",
      "        address as Address,\n",
      "        preapproved_for_discount as Preappoved_for_discount\n",
      "    FROM telco_call_center_ai.customer_info\n",
      "    WHERE LOWER(name) = LOWER('Alex')\n",
      "    AND date_of_birth = '1990-03-13'\n",
      "    AND LOWER(address) = LOWER('Sample Street 1')\n",
      "    .\n",
      "INFO:root:Customer information retrieved: {'name': 'Alex', 'Customer_ID': 13, 'Current_Product': 'AirSpeed Home', 'Churn_Risk': 1, 'Customer_Since': '2022-01-01', 'Date_of_birth': '1990-03-13', 'Address': 'Sample Street 1', 'Preappoved_for_discount': 'No'}.\n"
     ]
    },
    {
     "data": {
      "text/plain": [
       "{'name': 'Alex',\n",
       " 'Customer_ID': 13,\n",
       " 'Current_Product': 'AirSpeed Home',\n",
       " 'Churn_Risk': 1,\n",
       " 'Customer_Since': '2022-01-01',\n",
       " 'Date_of_birth': '1990-03-13',\n",
       " 'Address': 'Sample Street 1',\n",
       " 'Preappoved_for_discount': 'No'}"
      ]
     },
     "execution_count": 8,
     "metadata": {},
     "output_type": "execute_result"
    }
   ],
   "source": [
    "# good case\n",
    "retrieveCustomerInfo(\"Alex\", \"1990-03-13\", \"Sample Street 1\")"
   ]
  },
  {
   "cell_type": "code",
   "execution_count": 9,
   "id": "d1f2c93e-bf58-43d0-a8d4-aa4c82ea76af",
   "metadata": {},
   "outputs": [
    {
     "name": "stderr",
     "output_type": "stream",
     "text": [
      "INFO:root:retrieveCustomerInfo called with name: Alex, dob: foo, address: Sample Street 1.\n",
      "INFO:root:Attempting to run query: \n",
      "    SELECT\n",
      "        name,\n",
      "        customer_id as Customer_ID,\n",
      "        current_product as Current_Product,\n",
      "        churn_risk as Churn_Risk,\n",
      "        customer_since as Customer_Since,\n",
      "        date_of_birth as Date_of_birth,\n",
      "        address as Address,\n",
      "        preapproved_for_discount as Preappoved_for_discount\n",
      "    FROM telco_call_center_ai.customer_info\n",
      "    WHERE LOWER(name) = LOWER('Alex')\n",
      "    AND date_of_birth = 'foo'\n",
      "    AND LOWER(address) = LOWER('Sample Street 1')\n",
      "    .\n",
      "INFO:root:No matching customer found.\n"
     ]
    },
    {
     "data": {
      "text/plain": [
       "False"
      ]
     },
     "execution_count": 9,
     "metadata": {},
     "output_type": "execute_result"
    }
   ],
   "source": [
    "# bad case\n",
    "retrieveCustomerInfo(\"Alex\", \"foo\", \"Sample Street 1\")"
   ]
  }
 ],
 "metadata": {
  "kernelspec": {
   "display_name": "Python 3 (ipykernel)",
   "language": "python",
   "name": "python3"
  },
  "language_info": {
   "codemirror_mode": {
    "name": "ipython",
    "version": 3
   },
   "file_extension": ".py",
   "mimetype": "text/x-python",
   "name": "python",
   "nbconvert_exporter": "python",
   "pygments_lexer": "ipython3",
   "version": "3.9.19"
  }
 },
 "nbformat": 4,
 "nbformat_minor": 5
}
